{
  "nbformat": 4,
  "nbformat_minor": 0,
  "metadata": {
    "colab": {
      "name": "Breast Cancer Data Analysis DL.ipynb",
      "provenance": [],
      "authorship_tag": "ABX9TyP1IuouaXOv8GniDCGZVooO",
      "include_colab_link": true
    },
    "kernelspec": {
      "name": "python3",
      "display_name": "Python 3"
    }
  },
  "cells": [
    {
      "cell_type": "markdown",
      "metadata": {
        "id": "view-in-github",
        "colab_type": "text"
      },
      "source": [
        "<a href=\"https://colab.research.google.com/github/MainakRepositor/Deep-Learning-Python/blob/master/Breast_Cancer_Data_Analysis_DL.ipynb\" target=\"_parent\"><img src=\"https://colab.research.google.com/assets/colab-badge.svg\" alt=\"Open In Colab\"/></a>"
      ]
    },
    {
      "cell_type": "markdown",
      "metadata": {
        "id": "VHQyhRZUphGI"
      },
      "source": [
        "# Breast Cancer Classification using ANN\n",
        "\n",
        "<hr>"
      ]
    },
    {
      "cell_type": "markdown",
      "metadata": {
        "id": "AkVKhSQMpm5y"
      },
      "source": [
        "## Importing necessary libraries"
      ]
    },
    {
      "cell_type": "code",
      "metadata": {
        "id": "SbEKDzsbCKXu",
        "outputId": "4d3a925e-0542-43ef-c1c6-fd0c0ab44016",
        "colab": {
          "base_uri": "https://localhost:8080/"
        }
      },
      "source": [
        "import numpy as np\n",
        "import pandas as pd\n",
        "import matplotlib.pyplot as plt\n",
        "%matplotlib inline\n",
        "import seaborn as sns\n",
        "sns.set_style('darkgrid')\n",
        "print(\"All necessary packages are included successfully!\")"
      ],
      "execution_count": 3,
      "outputs": [
        {
          "output_type": "stream",
          "text": [
            "All necessary packages are included successfully!\n"
          ],
          "name": "stdout"
        }
      ]
    },
    {
      "cell_type": "markdown",
      "metadata": {
        "id": "9H2kJmdeprP3"
      },
      "source": [
        "## Importing datasets"
      ]
    },
    {
      "cell_type": "code",
      "metadata": {
        "id": "kHiH1eLMePL7",
        "outputId": "a79b07ee-e205-42f6-fed1-2880e123bed2",
        "colab": {
          "base_uri": "https://localhost:8080/",
          "height": 380
        }
      },
      "source": [
        "url = 'https://raw.githubusercontent.com/MainakRepositor/Datasets-/master/Breast%20Cancer%20Dataset.csv'\n",
        "df = pd.read_csv(url,error_bad_lines=False)\n",
        "del df['Unnamed: 32']\n",
        "df.head(10)"
      ],
      "execution_count": 13,
      "outputs": [
        {
          "output_type": "execute_result",
          "data": {
            "text/html": [
              "<div>\n",
              "<style scoped>\n",
              "    .dataframe tbody tr th:only-of-type {\n",
              "        vertical-align: middle;\n",
              "    }\n",
              "\n",
              "    .dataframe tbody tr th {\n",
              "        vertical-align: top;\n",
              "    }\n",
              "\n",
              "    .dataframe thead th {\n",
              "        text-align: right;\n",
              "    }\n",
              "</style>\n",
              "<table border=\"1\" class=\"dataframe\">\n",
              "  <thead>\n",
              "    <tr style=\"text-align: right;\">\n",
              "      <th></th>\n",
              "      <th>id</th>\n",
              "      <th>diagnosis</th>\n",
              "      <th>radius_mean</th>\n",
              "      <th>texture_mean</th>\n",
              "      <th>perimeter_mean</th>\n",
              "      <th>area_mean</th>\n",
              "      <th>smoothness_mean</th>\n",
              "      <th>compactness_mean</th>\n",
              "      <th>concavity_mean</th>\n",
              "      <th>concave points_mean</th>\n",
              "      <th>symmetry_mean</th>\n",
              "      <th>fractal_dimension_mean</th>\n",
              "      <th>radius_se</th>\n",
              "      <th>texture_se</th>\n",
              "      <th>perimeter_se</th>\n",
              "      <th>area_se</th>\n",
              "      <th>smoothness_se</th>\n",
              "      <th>compactness_se</th>\n",
              "      <th>concavity_se</th>\n",
              "      <th>concave points_se</th>\n",
              "      <th>symmetry_se</th>\n",
              "      <th>fractal_dimension_se</th>\n",
              "      <th>radius_worst</th>\n",
              "      <th>texture_worst</th>\n",
              "      <th>perimeter_worst</th>\n",
              "      <th>area_worst</th>\n",
              "      <th>smoothness_worst</th>\n",
              "      <th>compactness_worst</th>\n",
              "      <th>concavity_worst</th>\n",
              "      <th>concave points_worst</th>\n",
              "      <th>symmetry_worst</th>\n",
              "      <th>fractal_dimension_worst</th>\n",
              "    </tr>\n",
              "  </thead>\n",
              "  <tbody>\n",
              "    <tr>\n",
              "      <th>0</th>\n",
              "      <td>842302</td>\n",
              "      <td>M</td>\n",
              "      <td>17.99</td>\n",
              "      <td>10.38</td>\n",
              "      <td>122.80</td>\n",
              "      <td>1001.0</td>\n",
              "      <td>0.11840</td>\n",
              "      <td>0.27760</td>\n",
              "      <td>0.30010</td>\n",
              "      <td>0.14710</td>\n",
              "      <td>0.2419</td>\n",
              "      <td>0.07871</td>\n",
              "      <td>1.0950</td>\n",
              "      <td>0.9053</td>\n",
              "      <td>8.589</td>\n",
              "      <td>153.40</td>\n",
              "      <td>0.006399</td>\n",
              "      <td>0.04904</td>\n",
              "      <td>0.05373</td>\n",
              "      <td>0.01587</td>\n",
              "      <td>0.03003</td>\n",
              "      <td>0.006193</td>\n",
              "      <td>25.38</td>\n",
              "      <td>17.33</td>\n",
              "      <td>184.60</td>\n",
              "      <td>2019.0</td>\n",
              "      <td>0.1622</td>\n",
              "      <td>0.6656</td>\n",
              "      <td>0.7119</td>\n",
              "      <td>0.2654</td>\n",
              "      <td>0.4601</td>\n",
              "      <td>0.11890</td>\n",
              "    </tr>\n",
              "    <tr>\n",
              "      <th>1</th>\n",
              "      <td>842517</td>\n",
              "      <td>M</td>\n",
              "      <td>20.57</td>\n",
              "      <td>17.77</td>\n",
              "      <td>132.90</td>\n",
              "      <td>1326.0</td>\n",
              "      <td>0.08474</td>\n",
              "      <td>0.07864</td>\n",
              "      <td>0.08690</td>\n",
              "      <td>0.07017</td>\n",
              "      <td>0.1812</td>\n",
              "      <td>0.05667</td>\n",
              "      <td>0.5435</td>\n",
              "      <td>0.7339</td>\n",
              "      <td>3.398</td>\n",
              "      <td>74.08</td>\n",
              "      <td>0.005225</td>\n",
              "      <td>0.01308</td>\n",
              "      <td>0.01860</td>\n",
              "      <td>0.01340</td>\n",
              "      <td>0.01389</td>\n",
              "      <td>0.003532</td>\n",
              "      <td>24.99</td>\n",
              "      <td>23.41</td>\n",
              "      <td>158.80</td>\n",
              "      <td>1956.0</td>\n",
              "      <td>0.1238</td>\n",
              "      <td>0.1866</td>\n",
              "      <td>0.2416</td>\n",
              "      <td>0.1860</td>\n",
              "      <td>0.2750</td>\n",
              "      <td>0.08902</td>\n",
              "    </tr>\n",
              "    <tr>\n",
              "      <th>2</th>\n",
              "      <td>84300903</td>\n",
              "      <td>M</td>\n",
              "      <td>19.69</td>\n",
              "      <td>21.25</td>\n",
              "      <td>130.00</td>\n",
              "      <td>1203.0</td>\n",
              "      <td>0.10960</td>\n",
              "      <td>0.15990</td>\n",
              "      <td>0.19740</td>\n",
              "      <td>0.12790</td>\n",
              "      <td>0.2069</td>\n",
              "      <td>0.05999</td>\n",
              "      <td>0.7456</td>\n",
              "      <td>0.7869</td>\n",
              "      <td>4.585</td>\n",
              "      <td>94.03</td>\n",
              "      <td>0.006150</td>\n",
              "      <td>0.04006</td>\n",
              "      <td>0.03832</td>\n",
              "      <td>0.02058</td>\n",
              "      <td>0.02250</td>\n",
              "      <td>0.004571</td>\n",
              "      <td>23.57</td>\n",
              "      <td>25.53</td>\n",
              "      <td>152.50</td>\n",
              "      <td>1709.0</td>\n",
              "      <td>0.1444</td>\n",
              "      <td>0.4245</td>\n",
              "      <td>0.4504</td>\n",
              "      <td>0.2430</td>\n",
              "      <td>0.3613</td>\n",
              "      <td>0.08758</td>\n",
              "    </tr>\n",
              "    <tr>\n",
              "      <th>3</th>\n",
              "      <td>84348301</td>\n",
              "      <td>M</td>\n",
              "      <td>11.42</td>\n",
              "      <td>20.38</td>\n",
              "      <td>77.58</td>\n",
              "      <td>386.1</td>\n",
              "      <td>0.14250</td>\n",
              "      <td>0.28390</td>\n",
              "      <td>0.24140</td>\n",
              "      <td>0.10520</td>\n",
              "      <td>0.2597</td>\n",
              "      <td>0.09744</td>\n",
              "      <td>0.4956</td>\n",
              "      <td>1.1560</td>\n",
              "      <td>3.445</td>\n",
              "      <td>27.23</td>\n",
              "      <td>0.009110</td>\n",
              "      <td>0.07458</td>\n",
              "      <td>0.05661</td>\n",
              "      <td>0.01867</td>\n",
              "      <td>0.05963</td>\n",
              "      <td>0.009208</td>\n",
              "      <td>14.91</td>\n",
              "      <td>26.50</td>\n",
              "      <td>98.87</td>\n",
              "      <td>567.7</td>\n",
              "      <td>0.2098</td>\n",
              "      <td>0.8663</td>\n",
              "      <td>0.6869</td>\n",
              "      <td>0.2575</td>\n",
              "      <td>0.6638</td>\n",
              "      <td>0.17300</td>\n",
              "    </tr>\n",
              "    <tr>\n",
              "      <th>4</th>\n",
              "      <td>84358402</td>\n",
              "      <td>M</td>\n",
              "      <td>20.29</td>\n",
              "      <td>14.34</td>\n",
              "      <td>135.10</td>\n",
              "      <td>1297.0</td>\n",
              "      <td>0.10030</td>\n",
              "      <td>0.13280</td>\n",
              "      <td>0.19800</td>\n",
              "      <td>0.10430</td>\n",
              "      <td>0.1809</td>\n",
              "      <td>0.05883</td>\n",
              "      <td>0.7572</td>\n",
              "      <td>0.7813</td>\n",
              "      <td>5.438</td>\n",
              "      <td>94.44</td>\n",
              "      <td>0.011490</td>\n",
              "      <td>0.02461</td>\n",
              "      <td>0.05688</td>\n",
              "      <td>0.01885</td>\n",
              "      <td>0.01756</td>\n",
              "      <td>0.005115</td>\n",
              "      <td>22.54</td>\n",
              "      <td>16.67</td>\n",
              "      <td>152.20</td>\n",
              "      <td>1575.0</td>\n",
              "      <td>0.1374</td>\n",
              "      <td>0.2050</td>\n",
              "      <td>0.4000</td>\n",
              "      <td>0.1625</td>\n",
              "      <td>0.2364</td>\n",
              "      <td>0.07678</td>\n",
              "    </tr>\n",
              "    <tr>\n",
              "      <th>5</th>\n",
              "      <td>843786</td>\n",
              "      <td>M</td>\n",
              "      <td>12.45</td>\n",
              "      <td>15.70</td>\n",
              "      <td>82.57</td>\n",
              "      <td>477.1</td>\n",
              "      <td>0.12780</td>\n",
              "      <td>0.17000</td>\n",
              "      <td>0.15780</td>\n",
              "      <td>0.08089</td>\n",
              "      <td>0.2087</td>\n",
              "      <td>0.07613</td>\n",
              "      <td>0.3345</td>\n",
              "      <td>0.8902</td>\n",
              "      <td>2.217</td>\n",
              "      <td>27.19</td>\n",
              "      <td>0.007510</td>\n",
              "      <td>0.03345</td>\n",
              "      <td>0.03672</td>\n",
              "      <td>0.01137</td>\n",
              "      <td>0.02165</td>\n",
              "      <td>0.005082</td>\n",
              "      <td>15.47</td>\n",
              "      <td>23.75</td>\n",
              "      <td>103.40</td>\n",
              "      <td>741.6</td>\n",
              "      <td>0.1791</td>\n",
              "      <td>0.5249</td>\n",
              "      <td>0.5355</td>\n",
              "      <td>0.1741</td>\n",
              "      <td>0.3985</td>\n",
              "      <td>0.12440</td>\n",
              "    </tr>\n",
              "    <tr>\n",
              "      <th>6</th>\n",
              "      <td>844359</td>\n",
              "      <td>M</td>\n",
              "      <td>18.25</td>\n",
              "      <td>19.98</td>\n",
              "      <td>119.60</td>\n",
              "      <td>1040.0</td>\n",
              "      <td>0.09463</td>\n",
              "      <td>0.10900</td>\n",
              "      <td>0.11270</td>\n",
              "      <td>0.07400</td>\n",
              "      <td>0.1794</td>\n",
              "      <td>0.05742</td>\n",
              "      <td>0.4467</td>\n",
              "      <td>0.7732</td>\n",
              "      <td>3.180</td>\n",
              "      <td>53.91</td>\n",
              "      <td>0.004314</td>\n",
              "      <td>0.01382</td>\n",
              "      <td>0.02254</td>\n",
              "      <td>0.01039</td>\n",
              "      <td>0.01369</td>\n",
              "      <td>0.002179</td>\n",
              "      <td>22.88</td>\n",
              "      <td>27.66</td>\n",
              "      <td>153.20</td>\n",
              "      <td>1606.0</td>\n",
              "      <td>0.1442</td>\n",
              "      <td>0.2576</td>\n",
              "      <td>0.3784</td>\n",
              "      <td>0.1932</td>\n",
              "      <td>0.3063</td>\n",
              "      <td>0.08368</td>\n",
              "    </tr>\n",
              "    <tr>\n",
              "      <th>7</th>\n",
              "      <td>84458202</td>\n",
              "      <td>M</td>\n",
              "      <td>13.71</td>\n",
              "      <td>20.83</td>\n",
              "      <td>90.20</td>\n",
              "      <td>577.9</td>\n",
              "      <td>0.11890</td>\n",
              "      <td>0.16450</td>\n",
              "      <td>0.09366</td>\n",
              "      <td>0.05985</td>\n",
              "      <td>0.2196</td>\n",
              "      <td>0.07451</td>\n",
              "      <td>0.5835</td>\n",
              "      <td>1.3770</td>\n",
              "      <td>3.856</td>\n",
              "      <td>50.96</td>\n",
              "      <td>0.008805</td>\n",
              "      <td>0.03029</td>\n",
              "      <td>0.02488</td>\n",
              "      <td>0.01448</td>\n",
              "      <td>0.01486</td>\n",
              "      <td>0.005412</td>\n",
              "      <td>17.06</td>\n",
              "      <td>28.14</td>\n",
              "      <td>110.60</td>\n",
              "      <td>897.0</td>\n",
              "      <td>0.1654</td>\n",
              "      <td>0.3682</td>\n",
              "      <td>0.2678</td>\n",
              "      <td>0.1556</td>\n",
              "      <td>0.3196</td>\n",
              "      <td>0.11510</td>\n",
              "    </tr>\n",
              "    <tr>\n",
              "      <th>8</th>\n",
              "      <td>844981</td>\n",
              "      <td>M</td>\n",
              "      <td>13.00</td>\n",
              "      <td>21.82</td>\n",
              "      <td>87.50</td>\n",
              "      <td>519.8</td>\n",
              "      <td>0.12730</td>\n",
              "      <td>0.19320</td>\n",
              "      <td>0.18590</td>\n",
              "      <td>0.09353</td>\n",
              "      <td>0.2350</td>\n",
              "      <td>0.07389</td>\n",
              "      <td>0.3063</td>\n",
              "      <td>1.0020</td>\n",
              "      <td>2.406</td>\n",
              "      <td>24.32</td>\n",
              "      <td>0.005731</td>\n",
              "      <td>0.03502</td>\n",
              "      <td>0.03553</td>\n",
              "      <td>0.01226</td>\n",
              "      <td>0.02143</td>\n",
              "      <td>0.003749</td>\n",
              "      <td>15.49</td>\n",
              "      <td>30.73</td>\n",
              "      <td>106.20</td>\n",
              "      <td>739.3</td>\n",
              "      <td>0.1703</td>\n",
              "      <td>0.5401</td>\n",
              "      <td>0.5390</td>\n",
              "      <td>0.2060</td>\n",
              "      <td>0.4378</td>\n",
              "      <td>0.10720</td>\n",
              "    </tr>\n",
              "    <tr>\n",
              "      <th>9</th>\n",
              "      <td>84501001</td>\n",
              "      <td>M</td>\n",
              "      <td>12.46</td>\n",
              "      <td>24.04</td>\n",
              "      <td>83.97</td>\n",
              "      <td>475.9</td>\n",
              "      <td>0.11860</td>\n",
              "      <td>0.23960</td>\n",
              "      <td>0.22730</td>\n",
              "      <td>0.08543</td>\n",
              "      <td>0.2030</td>\n",
              "      <td>0.08243</td>\n",
              "      <td>0.2976</td>\n",
              "      <td>1.5990</td>\n",
              "      <td>2.039</td>\n",
              "      <td>23.94</td>\n",
              "      <td>0.007149</td>\n",
              "      <td>0.07217</td>\n",
              "      <td>0.07743</td>\n",
              "      <td>0.01432</td>\n",
              "      <td>0.01789</td>\n",
              "      <td>0.010080</td>\n",
              "      <td>15.09</td>\n",
              "      <td>40.68</td>\n",
              "      <td>97.65</td>\n",
              "      <td>711.4</td>\n",
              "      <td>0.1853</td>\n",
              "      <td>1.0580</td>\n",
              "      <td>1.1050</td>\n",
              "      <td>0.2210</td>\n",
              "      <td>0.4366</td>\n",
              "      <td>0.20750</td>\n",
              "    </tr>\n",
              "  </tbody>\n",
              "</table>\n",
              "</div>"
            ],
            "text/plain": [
              "         id diagnosis  ...  symmetry_worst  fractal_dimension_worst\n",
              "0    842302         M  ...          0.4601                  0.11890\n",
              "1    842517         M  ...          0.2750                  0.08902\n",
              "2  84300903         M  ...          0.3613                  0.08758\n",
              "3  84348301         M  ...          0.6638                  0.17300\n",
              "4  84358402         M  ...          0.2364                  0.07678\n",
              "5    843786         M  ...          0.3985                  0.12440\n",
              "6    844359         M  ...          0.3063                  0.08368\n",
              "7  84458202         M  ...          0.3196                  0.11510\n",
              "8    844981         M  ...          0.4378                  0.10720\n",
              "9  84501001         M  ...          0.4366                  0.20750\n",
              "\n",
              "[10 rows x 32 columns]"
            ]
          },
          "metadata": {
            "tags": []
          },
          "execution_count": 13
        }
      ]
    },
    {
      "cell_type": "markdown",
      "metadata": {
        "id": "DRH5bIq8p48e"
      },
      "source": [
        "## Visualizing sample counts"
      ]
    },
    {
      "cell_type": "code",
      "metadata": {
        "id": "l6IcNuM5eeIa",
        "outputId": "b9011bb3-3ee5-472c-bbf1-78292080dc3d",
        "colab": {
          "base_uri": "https://localhost:8080/",
          "height": 600
        }
      },
      "source": [
        "plt.figure(figsize=(18,8))\n",
        "sns.countplot(x=df['diagnosis'],label='count',palette='icefire')\n",
        "plt.xlabel('Diagnosis outcomes',size=18)\n",
        "plt.ylabel('Counts of outcomes',size=18)\n",
        "plt.xticks(size=16)\n",
        "plt.yticks(size=16)\n",
        "plt.title(\"Count of number of Malignant and Benign cases\\n\",size=24)\n",
        "B,M = df['diagnosis'].value_counts()\n",
        "print(\"Malignant :\",M)\n",
        "print(\"Benign :\",B)"
      ],
      "execution_count": 52,
      "outputs": [
        {
          "output_type": "stream",
          "text": [
            "Malignant : 212\n",
            "Benign : 357\n"
          ],
          "name": "stdout"
        },
        {
          "output_type": "display_data",
          "data": {
            "image/png": "[encoded data removed]",
            "text/plain": [
              "<Figure size 1296x576 with 1 Axes>"
            ]
          },
          "metadata": {
            "tags": []
          }
        }
      ]
    },
    {
      "cell_type": "markdown",
      "metadata": {
        "id": "b2XL_9mep-UP"
      },
      "source": [
        "## Label Encoding (To encode categorical data)"
      ]
    },
    {
      "cell_type": "code",
      "metadata": {
        "id": "ngRg6LDvevO6"
      },
      "source": [
        "X = df.iloc[:,2:].values\n",
        "y = df.iloc[:,1].values\n",
        "\n",
        "#Encoding categorical data\n",
        "from sklearn.preprocessing import LabelEncoder\n",
        "le = LabelEncoder()\n",
        "y = le.fit_transform(y)"
      ],
      "execution_count": 14,
      "outputs": []
    },
    {
      "cell_type": "markdown",
      "metadata": {
        "id": "m2rcuGkXqIJS"
      },
      "source": [
        "## Splitting the datasets"
      ]
    },
    {
      "cell_type": "code",
      "metadata": {
        "id": "he6ksrV2hUne"
      },
      "source": [
        "#Splitting dataset into training and testing set\n",
        "from sklearn.model_selection import train_test_split\n",
        "X_train,X_test,y_train,y_test = train_test_split(X,y,test_size=0.1,random_state=0)\n"
      ],
      "execution_count": 15,
      "outputs": []
    },
    {
      "cell_type": "markdown",
      "metadata": {
        "id": "tuIrNCiEqLQf"
      },
      "source": [
        "## Feature Scaling"
      ]
    },
    {
      "cell_type": "code",
      "metadata": {
        "id": "rc1Jh5hVhzAW"
      },
      "source": [
        "#Feature scaling\n",
        "from sklearn.preprocessing import StandardScaler\n",
        "sc = StandardScaler()\n",
        "X_train = sc.fit_transform(X_train)\n",
        "X_test = sc.fit_transform(X_test)\n"
      ],
      "execution_count": 16,
      "outputs": []
    },
    {
      "cell_type": "markdown",
      "metadata": {
        "id": "4DE0lXSwqOGR"
      },
      "source": [
        "## Printing the training and testing data"
      ]
    },
    {
      "cell_type": "code",
      "metadata": {
        "id": "Hh_0KazHiT2n",
        "outputId": "d88961c7-a5de-4bee-f06c-e9908ed56f96",
        "colab": {
          "base_uri": "https://localhost:8080/"
        }
      },
      "source": [
        "print(\"X_train : \\n\",X_train)"
      ],
      "execution_count": 17,
      "outputs": [
        {
          "output_type": "stream",
          "text": [
            "X_train : \n",
            " [[-0.52787029  2.49821982 -0.59939466 ... -1.74713139 -0.79044533\n",
            "  -0.91054389]\n",
            " [-0.55333608  0.29431013 -0.60759343 ... -0.62275667 -0.33646358\n",
            "  -0.83551633]\n",
            " [ 2.15452653  0.40392257  2.26525805 ...  1.03846122 -0.11504791\n",
            "   0.26488788]\n",
            " ...\n",
            " [-1.3297598  -0.21876938 -1.32088704 ... -0.98271999 -0.718764\n",
            "  -0.13637062]\n",
            " [-1.24940108 -0.24209117 -1.2835826  ... -1.74713139 -1.58690456\n",
            "  -1.01280367]\n",
            " [-0.74291476  1.08958336 -0.71827692 ... -0.2865488  -1.26354211\n",
            "   0.19486216]]\n"
          ],
          "name": "stdout"
        }
      ]
    },
    {
      "cell_type": "code",
      "metadata": {
        "id": "ApQ9PRm8iZeJ",
        "outputId": "b007092b-c35a-4e34-88c7-8a9601e8d137",
        "colab": {
          "base_uri": "https://localhost:8080/"
        }
      },
      "source": [
        "print(\"X_test : \\n\",X_test)"
      ],
      "execution_count": 18,
      "outputs": [
        {
          "output_type": "stream",
          "text": [
            "X_test : \n",
            " [[-0.19207516  0.21655218 -0.11542614 ...  1.60315155  1.38812047\n",
            "   1.39561107]\n",
            " [-0.24797128  1.29875111 -0.31114085 ... -0.76400211 -0.79834577\n",
            "  -0.93437281]\n",
            " [-0.00967731 -0.89539007 -0.07447263 ... -0.40317641 -1.38855752\n",
            "  -0.97661799]\n",
            " ...\n",
            " [-0.46861385  0.07241152 -0.46935075 ... -0.49962508 -0.33652424\n",
            "  -0.40576652]\n",
            " [-0.75986205 -0.81073603 -0.78878818 ... -0.67538685 -0.01842311\n",
            "   0.13529668]\n",
            " [-0.80399056  1.71744542 -0.84310547 ... -1.40405566 -0.02225565\n",
            "  -0.77243298]]\n"
          ],
          "name": "stdout"
        }
      ]
    },
    {
      "cell_type": "markdown",
      "metadata": {
        "id": "eUszCQo8qX2Y"
      },
      "source": [
        "## Importing Keras frameworks and utilities for ANN"
      ]
    },
    {
      "cell_type": "code",
      "metadata": {
        "id": "O5NLgd37ieyQ",
        "outputId": "34d75c87-6ec7-4e90-eab9-e5b8450add71",
        "colab": {
          "base_uri": "https://localhost:8080/"
        }
      },
      "source": [
        "!pip install keras"
      ],
      "execution_count": 19,
      "outputs": [
        {
          "output_type": "stream",
          "text": [
            "Requirement already satisfied: keras in /usr/local/lib/python3.6/dist-packages (2.4.3)\n",
            "Requirement already satisfied: numpy>=1.9.1 in /usr/local/lib/python3.6/dist-packages (from keras) (1.18.5)\n",
            "Requirement already satisfied: pyyaml in /usr/local/lib/python3.6/dist-packages (from keras) (3.13)\n",
            "Requirement already satisfied: h5py in /usr/local/lib/python3.6/dist-packages (from keras) (2.10.0)\n",
            "Requirement already satisfied: scipy>=0.14 in /usr/local/lib/python3.6/dist-packages (from keras) (1.4.1)\n",
            "Requirement already satisfied: six in /usr/local/lib/python3.6/dist-packages (from h5py->keras) (1.15.0)\n"
          ],
          "name": "stdout"
        }
      ]
    },
    {
      "cell_type": "markdown",
      "metadata": {
        "id": "o8TxRZVbqd1x"
      },
      "source": [
        "## Importing necessary keras libraries"
      ]
    },
    {
      "cell_type": "code",
      "metadata": {
        "id": "8eFHlTIOijo2"
      },
      "source": [
        "import keras \n",
        "from keras.models import Sequential\n",
        "from keras.layers import Dense"
      ],
      "execution_count": 21,
      "outputs": []
    },
    {
      "cell_type": "markdown",
      "metadata": {
        "id": "WQOpEeHVqic4"
      },
      "source": [
        "## Building the Perceptron layers in a MLP"
      ]
    },
    {
      "cell_type": "code",
      "metadata": {
        "id": "LPWVdU7_iteN"
      },
      "source": [
        "classifier = Sequential()\n",
        "classifier.add(Dense(units = 128, activation = 'relu'))\n",
        "\n",
        "classifier.add(Dense(units = 128, activation = 'relu'))\n",
        "\n",
        "classifier.add(Dense(units = 1, activation = 'sigmoid'))"
      ],
      "execution_count": 25,
      "outputs": []
    },
    {
      "cell_type": "markdown",
      "metadata": {
        "id": "vhftvA8RqsAY"
      },
      "source": [
        "## Optimising classifier and setting accuracy counter"
      ]
    },
    {
      "cell_type": "code",
      "metadata": {
        "id": "K2N_0Sw1mAJ7"
      },
      "source": [
        "classifier.compile(optimizer='Adam',loss='binary_crossentropy',metrics=['accuracy'])"
      ],
      "execution_count": 26,
      "outputs": []
    },
    {
      "cell_type": "markdown",
      "metadata": {
        "id": "DRfBee1NqxCm"
      },
      "source": [
        "## Executing the ANN"
      ]
    },
    {
      "cell_type": "code",
      "metadata": {
        "id": "fF-vXGCtmWLO",
        "outputId": "0313f99e-0c66-430b-b900-1566d40c3ee2",
        "colab": {
          "base_uri": "https://localhost:8080/"
        }
      },
      "source": [
        "classifier.fit(X_train,y_train,batch_size=100,epochs=150)"
      ],
      "execution_count": 28,
      "outputs": [
        {
          "output_type": "stream",
          "text": [
            "Epoch 1/150\n",
            "6/6 [==============================] - 0s 2ms/step - loss: 0.5307 - accuracy: 0.8555\n",
            "Epoch 2/150\n",
            "6/6 [==============================] - 0s 3ms/step - loss: 0.2779 - accuracy: 0.9590\n",
            "Epoch 3/150\n",
            "6/6 [==============================] - 0s 2ms/step - loss: 0.1774 - accuracy: 0.9629\n",
            "Epoch 4/150\n",
            "6/6 [==============================] - 0s 2ms/step - loss: 0.1297 - accuracy: 0.9688\n",
            "Epoch 5/150\n",
            "6/6 [==============================] - 0s 2ms/step - loss: 0.1032 - accuracy: 0.9727\n",
            "Epoch 6/150\n",
            "6/6 [==============================] - 0s 2ms/step - loss: 0.0874 - accuracy: 0.9785\n",
            "Epoch 7/150\n",
            "6/6 [==============================] - 0s 3ms/step - loss: 0.0767 - accuracy: 0.9805\n",
            "Epoch 8/150\n",
            "6/6 [==============================] - 0s 2ms/step - loss: 0.0695 - accuracy: 0.9805\n",
            "Epoch 9/150\n",
            "6/6 [==============================] - 0s 3ms/step - loss: 0.0647 - accuracy: 0.9785\n",
            "Epoch 10/150\n",
            "6/6 [==============================] - 0s 2ms/step - loss: 0.0610 - accuracy: 0.9824\n",
            "Epoch 11/150\n",
            "6/6 [==============================] - 0s 3ms/step - loss: 0.0572 - accuracy: 0.9824\n",
            "Epoch 12/150\n",
            "6/6 [==============================] - 0s 3ms/step - loss: 0.0538 - accuracy: 0.9863\n",
            "Epoch 13/150\n",
            "6/6 [==============================] - 0s 3ms/step - loss: 0.0508 - accuracy: 0.9844\n",
            "Epoch 14/150\n",
            "6/6 [==============================] - 0s 3ms/step - loss: 0.0481 - accuracy: 0.9844\n",
            "Epoch 15/150\n",
            "6/6 [==============================] - 0s 2ms/step - loss: 0.0464 - accuracy: 0.9844\n",
            "Epoch 16/150\n",
            "6/6 [==============================] - 0s 2ms/step - loss: 0.0437 - accuracy: 0.9863\n",
            "Epoch 17/150\n",
            "6/6 [==============================] - 0s 2ms/step - loss: 0.0411 - accuracy: 0.9883\n",
            "Epoch 18/150\n",
            "6/6 [==============================] - 0s 4ms/step - loss: 0.0393 - accuracy: 0.9922\n",
            "Epoch 19/150\n",
            "6/6 [==============================] - 0s 2ms/step - loss: 0.0382 - accuracy: 0.9922\n",
            "Epoch 20/150\n",
            "6/6 [==============================] - 0s 2ms/step - loss: 0.0366 - accuracy: 0.9922\n",
            "Epoch 21/150\n",
            "6/6 [==============================] - 0s 2ms/step - loss: 0.0346 - accuracy: 0.9922\n",
            "Epoch 22/150\n",
            "6/6 [==============================] - 0s 2ms/step - loss: 0.0326 - accuracy: 0.9922\n",
            "Epoch 23/150\n",
            "6/6 [==============================] - 0s 2ms/step - loss: 0.0309 - accuracy: 0.9922\n",
            "Epoch 24/150\n",
            "6/6 [==============================] - 0s 2ms/step - loss: 0.0291 - accuracy: 0.9922\n",
            "Epoch 25/150\n",
            "6/6 [==============================] - 0s 2ms/step - loss: 0.0277 - accuracy: 0.9902\n",
            "Epoch 26/150\n",
            "6/6 [==============================] - 0s 2ms/step - loss: 0.0263 - accuracy: 0.9902\n",
            "Epoch 27/150\n",
            "6/6 [==============================] - 0s 3ms/step - loss: 0.0251 - accuracy: 0.9922\n",
            "Epoch 28/150\n",
            "6/6 [==============================] - 0s 3ms/step - loss: 0.0238 - accuracy: 0.9922\n",
            "Epoch 29/150\n",
            "6/6 [==============================] - 0s 2ms/step - loss: 0.0228 - accuracy: 0.9922\n",
            "Epoch 30/150\n",
            "6/6 [==============================] - 0s 2ms/step - loss: 0.0216 - accuracy: 0.9902\n",
            "Epoch 31/150\n",
            "6/6 [==============================] - 0s 2ms/step - loss: 0.0210 - accuracy: 0.9961\n",
            "Epoch 32/150\n",
            "6/6 [==============================] - 0s 2ms/step - loss: 0.0201 - accuracy: 0.9922\n",
            "Epoch 33/150\n",
            "6/6 [==============================] - 0s 3ms/step - loss: 0.0191 - accuracy: 0.9902\n",
            "Epoch 34/150\n",
            "6/6 [==============================] - 0s 3ms/step - loss: 0.0172 - accuracy: 0.9922\n",
            "Epoch 35/150\n",
            "6/6 [==============================] - 0s 3ms/step - loss: 0.0157 - accuracy: 0.9941\n",
            "Epoch 36/150\n",
            "6/6 [==============================] - 0s 3ms/step - loss: 0.0148 - accuracy: 0.9980\n",
            "Epoch 37/150\n",
            "6/6 [==============================] - 0s 2ms/step - loss: 0.0139 - accuracy: 1.0000\n",
            "Epoch 38/150\n",
            "6/6 [==============================] - 0s 3ms/step - loss: 0.0131 - accuracy: 0.9961\n",
            "Epoch 39/150\n",
            "6/6 [==============================] - 0s 2ms/step - loss: 0.0126 - accuracy: 0.9941\n",
            "Epoch 40/150\n",
            "6/6 [==============================] - 0s 3ms/step - loss: 0.0122 - accuracy: 0.9941\n",
            "Epoch 41/150\n",
            "6/6 [==============================] - 0s 3ms/step - loss: 0.0112 - accuracy: 0.9980\n",
            "Epoch 42/150\n",
            "6/6 [==============================] - 0s 3ms/step - loss: 0.0106 - accuracy: 1.0000\n",
            "Epoch 43/150\n",
            "6/6 [==============================] - 0s 3ms/step - loss: 0.0099 - accuracy: 1.0000\n",
            "Epoch 44/150\n",
            "6/6 [==============================] - 0s 3ms/step - loss: 0.0094 - accuracy: 1.0000\n",
            "Epoch 45/150\n",
            "6/6 [==============================] - 0s 3ms/step - loss: 0.0089 - accuracy: 1.0000\n",
            "Epoch 46/150\n",
            "6/6 [==============================] - 0s 3ms/step - loss: 0.0085 - accuracy: 1.0000\n",
            "Epoch 47/150\n",
            "6/6 [==============================] - 0s 3ms/step - loss: 0.0080 - accuracy: 1.0000\n",
            "Epoch 48/150\n",
            "6/6 [==============================] - 0s 2ms/step - loss: 0.0076 - accuracy: 1.0000\n",
            "Epoch 49/150\n",
            "6/6 [==============================] - 0s 2ms/step - loss: 0.0073 - accuracy: 1.0000\n",
            "Epoch 50/150\n",
            "6/6 [==============================] - 0s 3ms/step - loss: 0.0070 - accuracy: 1.0000\n",
            "Epoch 51/150\n",
            "6/6 [==============================] - 0s 2ms/step - loss: 0.0067 - accuracy: 1.0000\n",
            "Epoch 52/150\n",
            "6/6 [==============================] - 0s 2ms/step - loss: 0.0065 - accuracy: 1.0000\n",
            "Epoch 53/150\n",
            "6/6 [==============================] - 0s 4ms/step - loss: 0.0061 - accuracy: 1.0000\n",
            "Epoch 54/150\n",
            "6/6 [==============================] - 0s 2ms/step - loss: 0.0060 - accuracy: 1.0000\n",
            "Epoch 55/150\n",
            "6/6 [==============================] - 0s 3ms/step - loss: 0.0058 - accuracy: 1.0000\n",
            "Epoch 56/150\n",
            "6/6 [==============================] - 0s 2ms/step - loss: 0.0054 - accuracy: 1.0000\n",
            "Epoch 57/150\n",
            "6/6 [==============================] - 0s 2ms/step - loss: 0.0055 - accuracy: 1.0000\n",
            "Epoch 58/150\n",
            "6/6 [==============================] - 0s 3ms/step - loss: 0.0055 - accuracy: 1.0000\n",
            "Epoch 59/150\n",
            "6/6 [==============================] - 0s 2ms/step - loss: 0.0045 - accuracy: 1.0000\n",
            "Epoch 60/150\n",
            "6/6 [==============================] - 0s 2ms/step - loss: 0.0063 - accuracy: 0.9980\n",
            "Epoch 61/150\n",
            "6/6 [==============================] - 0s 2ms/step - loss: 0.0047 - accuracy: 1.0000\n",
            "Epoch 62/150\n",
            "6/6 [==============================] - 0s 2ms/step - loss: 0.0040 - accuracy: 1.0000\n",
            "Epoch 63/150\n",
            "6/6 [==============================] - 0s 2ms/step - loss: 0.0038 - accuracy: 1.0000\n",
            "Epoch 64/150\n",
            "6/6 [==============================] - 0s 3ms/step - loss: 0.0036 - accuracy: 1.0000\n",
            "Epoch 65/150\n",
            "6/6 [==============================] - 0s 3ms/step - loss: 0.0034 - accuracy: 1.0000\n",
            "Epoch 66/150\n",
            "6/6 [==============================] - 0s 2ms/step - loss: 0.0033 - accuracy: 1.0000\n",
            "Epoch 67/150\n",
            "6/6 [==============================] - 0s 2ms/step - loss: 0.0032 - accuracy: 1.0000\n",
            "Epoch 68/150\n",
            "6/6 [==============================] - 0s 2ms/step - loss: 0.0030 - accuracy: 1.0000\n",
            "Epoch 69/150\n",
            "6/6 [==============================] - 0s 2ms/step - loss: 0.0028 - accuracy: 1.0000\n",
            "Epoch 70/150\n",
            "6/6 [==============================] - 0s 2ms/step - loss: 0.0026 - accuracy: 1.0000\n",
            "Epoch 71/150\n",
            "6/6 [==============================] - 0s 2ms/step - loss: 0.0027 - accuracy: 1.0000\n",
            "Epoch 72/150\n",
            "6/6 [==============================] - 0s 2ms/step - loss: 0.0026 - accuracy: 1.0000\n",
            "Epoch 73/150\n",
            "6/6 [==============================] - 0s 2ms/step - loss: 0.0024 - accuracy: 1.0000\n",
            "Epoch 74/150\n",
            "6/6 [==============================] - 0s 2ms/step - loss: 0.0023 - accuracy: 1.0000\n",
            "Epoch 75/150\n",
            "6/6 [==============================] - 0s 2ms/step - loss: 0.0022 - accuracy: 1.0000\n",
            "Epoch 76/150\n",
            "6/6 [==============================] - 0s 2ms/step - loss: 0.0022 - accuracy: 1.0000\n",
            "Epoch 77/150\n",
            "6/6 [==============================] - 0s 2ms/step - loss: 0.0023 - accuracy: 1.0000\n",
            "Epoch 78/150\n",
            "6/6 [==============================] - 0s 3ms/step - loss: 0.0021 - accuracy: 1.0000\n",
            "Epoch 79/150\n",
            "6/6 [==============================] - 0s 2ms/step - loss: 0.0019 - accuracy: 1.0000\n",
            "Epoch 80/150\n",
            "6/6 [==============================] - 0s 2ms/step - loss: 0.0018 - accuracy: 1.0000\n",
            "Epoch 81/150\n",
            "6/6 [==============================] - 0s 2ms/step - loss: 0.0018 - accuracy: 1.0000\n",
            "Epoch 82/150\n",
            "6/6 [==============================] - 0s 2ms/step - loss: 0.0017 - accuracy: 1.0000\n",
            "Epoch 83/150\n",
            "6/6 [==============================] - 0s 3ms/step - loss: 0.0017 - accuracy: 1.0000\n",
            "Epoch 84/150\n",
            "6/6 [==============================] - 0s 3ms/step - loss: 0.0016 - accuracy: 1.0000\n",
            "Epoch 85/150\n",
            "6/6 [==============================] - 0s 3ms/step - loss: 0.0016 - accuracy: 1.0000\n",
            "Epoch 86/150\n",
            "6/6 [==============================] - 0s 2ms/step - loss: 0.0016 - accuracy: 1.0000\n",
            "Epoch 87/150\n",
            "6/6 [==============================] - 0s 3ms/step - loss: 0.0015 - accuracy: 1.0000\n",
            "Epoch 88/150\n",
            "6/6 [==============================] - 0s 2ms/step - loss: 0.0015 - accuracy: 1.0000\n",
            "Epoch 89/150\n",
            "6/6 [==============================] - 0s 2ms/step - loss: 0.0014 - accuracy: 1.0000\n",
            "Epoch 90/150\n",
            "6/6 [==============================] - 0s 2ms/step - loss: 0.0013 - accuracy: 1.0000\n",
            "Epoch 91/150\n",
            "6/6 [==============================] - 0s 2ms/step - loss: 0.0013 - accuracy: 1.0000\n",
            "Epoch 92/150\n",
            "6/6 [==============================] - 0s 2ms/step - loss: 0.0012 - accuracy: 1.0000\n",
            "Epoch 93/150\n",
            "6/6 [==============================] - 0s 2ms/step - loss: 0.0012 - accuracy: 1.0000\n",
            "Epoch 94/150\n",
            "6/6 [==============================] - 0s 3ms/step - loss: 0.0012 - accuracy: 1.0000\n",
            "Epoch 95/150\n",
            "6/6 [==============================] - 0s 2ms/step - loss: 0.0012 - accuracy: 1.0000\n",
            "Epoch 96/150\n",
            "6/6 [==============================] - 0s 3ms/step - loss: 0.0012 - accuracy: 1.0000\n",
            "Epoch 97/150\n",
            "6/6 [==============================] - 0s 2ms/step - loss: 0.0011 - accuracy: 1.0000\n",
            "Epoch 98/150\n",
            "6/6 [==============================] - 0s 3ms/step - loss: 0.0011 - accuracy: 1.0000\n",
            "Epoch 99/150\n",
            "6/6 [==============================] - 0s 2ms/step - loss: 0.0010 - accuracy: 1.0000\n",
            "Epoch 100/150\n",
            "6/6 [==============================] - 0s 2ms/step - loss: 9.7945e-04 - accuracy: 1.0000\n",
            "Epoch 101/150\n",
            "6/6 [==============================] - 0s 2ms/step - loss: 0.0010 - accuracy: 1.0000\n",
            "Epoch 102/150\n",
            "6/6 [==============================] - 0s 2ms/step - loss: 0.0010 - accuracy: 1.0000\n",
            "Epoch 103/150\n",
            "6/6 [==============================] - 0s 2ms/step - loss: 9.6717e-04 - accuracy: 1.0000\n",
            "Epoch 104/150\n",
            "6/6 [==============================] - 0s 2ms/step - loss: 9.0415e-04 - accuracy: 1.0000\n",
            "Epoch 105/150\n",
            "6/6 [==============================] - 0s 3ms/step - loss: 0.0011 - accuracy: 1.0000\n",
            "Epoch 106/150\n",
            "6/6 [==============================] - 0s 2ms/step - loss: 9.9184e-04 - accuracy: 1.0000\n",
            "Epoch 107/150\n",
            "6/6 [==============================] - 0s 3ms/step - loss: 8.4891e-04 - accuracy: 1.0000\n",
            "Epoch 108/150\n",
            "6/6 [==============================] - 0s 2ms/step - loss: 8.3540e-04 - accuracy: 1.0000\n",
            "Epoch 109/150\n",
            "6/6 [==============================] - 0s 3ms/step - loss: 8.0747e-04 - accuracy: 1.0000\n",
            "Epoch 110/150\n",
            "6/6 [==============================] - 0s 2ms/step - loss: 7.8494e-04 - accuracy: 1.0000\n",
            "Epoch 111/150\n",
            "6/6 [==============================] - 0s 2ms/step - loss: 7.5324e-04 - accuracy: 1.0000\n",
            "Epoch 112/150\n",
            "6/6 [==============================] - 0s 3ms/step - loss: 7.6342e-04 - accuracy: 1.0000\n",
            "Epoch 113/150\n",
            "6/6 [==============================] - 0s 2ms/step - loss: 7.6229e-04 - accuracy: 1.0000\n",
            "Epoch 114/150\n",
            "6/6 [==============================] - 0s 2ms/step - loss: 7.1353e-04 - accuracy: 1.0000\n",
            "Epoch 115/150\n",
            "6/6 [==============================] - 0s 3ms/step - loss: 6.9029e-04 - accuracy: 1.0000\n",
            "Epoch 116/150\n",
            "6/6 [==============================] - 0s 4ms/step - loss: 6.7662e-04 - accuracy: 1.0000\n",
            "Epoch 117/150\n",
            "6/6 [==============================] - 0s 3ms/step - loss: 6.6704e-04 - accuracy: 1.0000\n",
            "Epoch 118/150\n",
            "6/6 [==============================] - 0s 3ms/step - loss: 6.4336e-04 - accuracy: 1.0000\n",
            "Epoch 119/150\n",
            "6/6 [==============================] - 0s 3ms/step - loss: 6.2630e-04 - accuracy: 1.0000\n",
            "Epoch 120/150\n",
            "6/6 [==============================] - 0s 3ms/step - loss: 6.1317e-04 - accuracy: 1.0000\n",
            "Epoch 121/150\n",
            "6/6 [==============================] - 0s 3ms/step - loss: 5.9453e-04 - accuracy: 1.0000\n",
            "Epoch 122/150\n",
            "6/6 [==============================] - 0s 3ms/step - loss: 5.8524e-04 - accuracy: 1.0000\n",
            "Epoch 123/150\n",
            "6/6 [==============================] - 0s 2ms/step - loss: 5.7824e-04 - accuracy: 1.0000\n",
            "Epoch 124/150\n",
            "6/6 [==============================] - 0s 4ms/step - loss: 5.6495e-04 - accuracy: 1.0000\n",
            "Epoch 125/150\n",
            "6/6 [==============================] - 0s 3ms/step - loss: 5.5165e-04 - accuracy: 1.0000\n",
            "Epoch 126/150\n",
            "6/6 [==============================] - 0s 2ms/step - loss: 5.4144e-04 - accuracy: 1.0000\n",
            "Epoch 127/150\n",
            "6/6 [==============================] - 0s 4ms/step - loss: 5.2699e-04 - accuracy: 1.0000\n",
            "Epoch 128/150\n",
            "6/6 [==============================] - 0s 3ms/step - loss: 5.1586e-04 - accuracy: 1.0000\n",
            "Epoch 129/150\n",
            "6/6 [==============================] - 0s 3ms/step - loss: 5.0711e-04 - accuracy: 1.0000\n",
            "Epoch 130/150\n",
            "6/6 [==============================] - 0s 3ms/step - loss: 5.0590e-04 - accuracy: 1.0000\n",
            "Epoch 131/150\n",
            "6/6 [==============================] - 0s 3ms/step - loss: 5.0402e-04 - accuracy: 1.0000\n",
            "Epoch 132/150\n",
            "6/6 [==============================] - 0s 3ms/step - loss: 5.6527e-04 - accuracy: 1.0000\n",
            "Epoch 133/150\n",
            "6/6 [==============================] - 0s 3ms/step - loss: 5.5385e-04 - accuracy: 1.0000\n",
            "Epoch 134/150\n",
            "6/6 [==============================] - 0s 2ms/step - loss: 5.0548e-04 - accuracy: 1.0000\n",
            "Epoch 135/150\n",
            "6/6 [==============================] - 0s 3ms/step - loss: 4.7115e-04 - accuracy: 1.0000\n",
            "Epoch 136/150\n",
            "6/6 [==============================] - 0s 3ms/step - loss: 4.5727e-04 - accuracy: 1.0000\n",
            "Epoch 137/150\n",
            "6/6 [==============================] - 0s 3ms/step - loss: 4.4108e-04 - accuracy: 1.0000\n",
            "Epoch 138/150\n",
            "6/6 [==============================] - 0s 3ms/step - loss: 4.2567e-04 - accuracy: 1.0000\n",
            "Epoch 139/150\n",
            "6/6 [==============================] - 0s 4ms/step - loss: 4.1824e-04 - accuracy: 1.0000\n",
            "Epoch 140/150\n",
            "6/6 [==============================] - 0s 3ms/step - loss: 4.1525e-04 - accuracy: 1.0000\n",
            "Epoch 141/150\n",
            "6/6 [==============================] - 0s 3ms/step - loss: 4.0903e-04 - accuracy: 1.0000\n",
            "Epoch 142/150\n",
            "6/6 [==============================] - 0s 3ms/step - loss: 3.9021e-04 - accuracy: 1.0000\n",
            "Epoch 143/150\n",
            "6/6 [==============================] - 0s 3ms/step - loss: 3.9290e-04 - accuracy: 1.0000\n",
            "Epoch 144/150\n",
            "6/6 [==============================] - 0s 3ms/step - loss: 3.9220e-04 - accuracy: 1.0000\n",
            "Epoch 145/150\n",
            "6/6 [==============================] - 0s 3ms/step - loss: 3.7364e-04 - accuracy: 1.0000\n",
            "Epoch 146/150\n",
            "6/6 [==============================] - 0s 3ms/step - loss: 3.6834e-04 - accuracy: 1.0000\n",
            "Epoch 147/150\n",
            "6/6 [==============================] - 0s 2ms/step - loss: 3.6053e-04 - accuracy: 1.0000\n",
            "Epoch 148/150\n",
            "6/6 [==============================] - 0s 2ms/step - loss: 3.5434e-04 - accuracy: 1.0000\n",
            "Epoch 149/150\n",
            "6/6 [==============================] - 0s 2ms/step - loss: 3.4492e-04 - accuracy: 1.0000\n",
            "Epoch 150/150\n",
            "6/6 [==============================] - 0s 2ms/step - loss: 3.4388e-04 - accuracy: 1.0000\n"
          ],
          "name": "stdout"
        },
        {
          "output_type": "execute_result",
          "data": {
            "text/plain": [
              "<tensorflow.python.keras.callbacks.History at 0x7f655d736f98>"
            ]
          },
          "metadata": {
            "tags": []
          },
          "execution_count": 28
        }
      ]
    },
    {
      "cell_type": "markdown",
      "metadata": {
        "id": "vrQKLOoEq3li"
      },
      "source": [
        "## Classifying results"
      ]
    },
    {
      "cell_type": "code",
      "metadata": {
        "id": "Stqb9AoXitW7"
      },
      "source": [
        "y_pred = classifier.predict(X_test)\n",
        "y_pred = (y_pred > 0.5)"
      ],
      "execution_count": 29,
      "outputs": []
    },
    {
      "cell_type": "markdown",
      "metadata": {
        "id": "JU5xDz3Lq6rY"
      },
      "source": [
        "## Building the Confusion Matrix"
      ]
    },
    {
      "cell_type": "code",
      "metadata": {
        "id": "jPw9YR9emshM"
      },
      "source": [
        "from sklearn.metrics import confusion_matrix\n",
        "cm = confusion_matrix(y_test,y_pred)"
      ],
      "execution_count": 30,
      "outputs": []
    },
    {
      "cell_type": "markdown",
      "metadata": {
        "id": "4UkXPUvyq-eM"
      },
      "source": [
        "## Plotting the results of Confusion Matrix"
      ]
    },
    {
      "cell_type": "code",
      "metadata": {
        "id": "RjHxCsfNnF3_",
        "outputId": "0e0e289d-eb57-463a-cf51-f12c87cbbba3",
        "colab": {
          "base_uri": "https://localhost:8080/",
          "height": 495
        }
      },
      "source": [
        "plt.figure(figsize=(10,8))\n",
        "sns.set(font_scale=2)\n",
        "sns.heatmap(cm,annot=True,cmap='RdGy')\n",
        "plt.savefig('Confusion Matrix')"
      ],
      "execution_count": 44,
      "outputs": [
        {
          "output_type": "display_data",
          "data": {
            "image/png": "[encoded data removed]",
            "text/plain": [
              "<Figure size 720x576 with 2 Axes>"
            ]
          },
          "metadata": {
            "tags": []
          }
        }
      ]
    },
    {
      "cell_type": "markdown",
      "metadata": {
        "id": "K52U3Ax-rF6J"
      },
      "source": [
        "### From the result we can see that most of the score is in True positive and False negative sections. 3 data are misclassified under the True negative section. Model accuracy is nearly 100%"
      ]
    },
    {
      "cell_type": "code",
      "metadata": {
        "id": "9W6fnam9nOni"
      },
      "source": [
        ""
      ],
      "execution_count": null,
      "outputs": []
    }
  ]
}